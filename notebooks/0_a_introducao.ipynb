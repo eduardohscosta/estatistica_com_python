{
 "cells": [
  {
   "cell_type": "markdown",
   "metadata": {},
   "source": [
    "<center> <h1> <b> A Introdução </b> </h1> </center>\n",
    "\n",
    "___"
   ]
  },
  {
   "cell_type": "markdown",
   "metadata": {},
   "source": [
    "Há alguns meses venho estudando assuntos relacionados, especificamente, à Ciência de Dados (CD). Na verdade, [vai fazer 1 ano]. Embora eu prefira estudar qualquer assunto por conta própria, os estudo nessa área foram bastante difíceis. Não apenas pelos conteúdos em si, mas pela amplitude de tudo relacionado à CD.\n",
    "\n",
    "Nesse processo, eu bati muito cabeça no que diz respeito ao que estudar, como estudar, por onde começar, até onde ir em cada assunto e assim por diante. Hoje, discordo frontalmente de algumas dicas de \"Como iniciar na área de Ciência de Dados\", mas isso é assunto para outro post.\n",
    "\n",
    "Tenho formação em Economia e uma boa base de negócios e aplicação de regras de negócios, ou seja, dos 3 pilares da CD, me considero competente em 2. Programação, o pilar restante, era meu ponto mais fraco. Tinha um conhecimento básico em R e quase nenhum em Python. E esse foi o ponto que mais me dificultou a vida. Durante um tempo eu não conseguia aplicar cálculos simples de matemática na mão, ou seja, fazer por conta própria o cálculo, sem utilizar módulos prontos para isso.\n",
    "\n",
    "Mas, se existem os módulos prontos pra fazer cálculos, qual a necessidade de fazer na mão?\n",
    "> Pois, entender como as coisas funcionam é, ao meu ver, essencial. Além de entender as minúcias dos cálculos matemáticos, a capacidade de desenvolver modelos/algorítimos matemáticas com certa linguagem (no caso, Python) do zero, deixa o processo de modelagem muito mais claro.\n",
    "\n",
    "Há um termo para a aplicação de algorítimos às cegas: ***black-box***. O termo em si se refere ao que está sendo implementado, seja algorítmos simples ou até algorítimos de *Machine Learning* mais complexos, sem saber exatamente como ele está trabalhando, isto é, como ele trouxe certo resultado.\n",
    "\n",
    "Claro, é impossível saber como todos os modelos funcionam 100%, porém, para diversos problemas, isso é possível e, mais ainda, essencial.\n",
    "\n",
    "Após essa longa volta, o que quero dizer é que tive bastante dificuldade em aplicar *pythonicamente* estruturas de cálculo do zero para que eu pudesse entender como o resultado que eu estava visualizando foi criado. Cálculos como média e variância, por exemplo, feitos na mão são simples. Agora, ao fazer cálculos relacionados à regressões e/ou séries temporais, aí o bicho pega.\n",
    "\n",
    "Com isso, o objetivo deste projeto é explicar, de forma não-técnica e técnica (matematicamente falando), conceitos de estatística aplicados em Python. Ou seja, inicialmente, irei explicar de forma bastante simples o conceito abordado, darei exemplos e aplicarei um passo a passo em Python de forma *low level*, isto é, farei o possível para não aplicar métodos prontos para resolver as equações matemáticas utilizando apenas métodos *build-ins* do Python e métodos simples das bibliotecas utilizadas. Claro, sempre serão feitas as checagens com os métodos prontos para resolução de problemas."
   ]
  },
  {
   "cell_type": "markdown",
   "metadata": {},
   "source": [
    "Qualquer sugestão, contribuição ou crítica pode ser feita através dos seguintes canais:\n",
    "> [Gmail](eduardohscosta@gmail.com): eduardohscosta@gmail.com </br>\n",
    "> [Twitter](https://twitter.com/eduhenri_): @eduhenri_"
   ]
  }
 ],
 "metadata": {
  "kernelspec": {
   "display_name": "Python 3",
   "language": "python",
   "name": "python3"
  },
  "language_info": {
   "codemirror_mode": {
    "name": "ipython",
    "version": 3
   },
   "file_extension": ".py",
   "mimetype": "text/x-python",
   "name": "python",
   "nbconvert_exporter": "python",
   "pygments_lexer": "ipython3",
   "version": "3.7.5"
  }
 },
 "nbformat": 4,
 "nbformat_minor": 4
}
